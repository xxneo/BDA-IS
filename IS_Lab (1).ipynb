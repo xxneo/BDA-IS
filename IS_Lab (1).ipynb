{
 "cells": [
  {
   "cell_type": "markdown",
   "metadata": {
    "id": "g0y3n7sZgFNq"
   },
   "source": [
    "# IS Lab Assignment 1 - Chinese Remainder Theorem"
   ]
  },
  {
   "cell_type": "code",
   "execution_count": null,
   "metadata": {
    "colab": {
     "base_uri": "https://localhost:8080/"
    },
    "id": "pjNjYkjCKHpu",
    "outputId": "87163860-c65c-4423-f38a-0347b4d79940"
   },
   "outputs": [
    {
     "name": "stdout",
     "output_type": "stream",
     "text": [
      "11\n"
     ]
    }
   ],
   "source": [
    "def inverse(a, b):\n",
    "  m0 = b\n",
    "  x0 = 0\n",
    "  x1 = 1\n",
    "\n",
    "  if b == 1:\n",
    "    return 0\n",
    "\n",
    "  while (a > 1):\n",
    "    q = a // b\n",
    "    t = b\n",
    "    b = a % b\n",
    "    a = t\n",
    "    t = x0\n",
    "    x0 = x1 - q * x0\n",
    "    x1 = t\n",
    "\n",
    "  if x1 < 0:\n",
    "    x1 = x1 + m0\n",
    "\n",
    "  return x1\n",
    "\n",
    "def crt(m, x, k):\n",
    "  M = 1\n",
    "  for i in range (0, k):\n",
    "    M = M * m[i]\n",
    "\n",
    "  result = 0\n",
    "  for i in range (0, k):\n",
    "    Mi = M // m[i]\n",
    "    result = result + r[i] * Mi * inverse(Mi, m[i])\n",
    "\n",
    "  return result % M\n",
    "\n",
    "\n",
    "# list of moduli of equations\n",
    "m = [3, 4, 5]\n",
    "# list of remainders of equations\n",
    "r = [2, 3, 1]\n",
    "k = len(m)\n",
    "print(crt(m, r, k))"
   ]
  },
  {
   "cell_type": "markdown",
   "metadata": {
    "id": "teWLriWygOmT"
   },
   "source": [
    "# IS Lab Assignment 2 - Euclidean"
   ]
  },
  {
   "cell_type": "code",
   "execution_count": null,
   "metadata": {
    "colab": {
     "base_uri": "https://localhost:8080/"
    },
    "id": "xfD-lXkmgSux",
    "outputId": "d4e33805-d4c0-4675-bba9-ad6e557e4f89"
   },
   "outputs": [
    {
     "name": "stdout",
     "output_type": "stream",
     "text": [
      "Euclidean : 5\n",
      "Extended Euclidean : (5, 1, -2)\n"
     ]
    }
   ],
   "source": [
    "def gcdExtended(a, b):\n",
    "    if a == 0 :\n",
    "        return b,0,1\n",
    "    gcd,x1,y1 = gcdExtended(b%a, a)\n",
    "    x = y1 - (b//a) * x1\n",
    "    y = x1\n",
    "    return gcd,x,y\n",
    "\n",
    "def gcd(a, b):\n",
    "  while (1):\n",
    "      temp = a % b;\n",
    "      if temp == 0:\n",
    "        return b\n",
    "      a = b\n",
    "      b = temp\n",
    "     \n",
    "\n",
    "a, b = 35, 15\n",
    "print(\"Euclidean :\", gcd(a, b))\n",
    "print(\"Extended Euclidean :\", gcdExtended(a, b))"
   ]
  },
  {
   "cell_type": "markdown",
   "metadata": {
    "id": "qPS8-KIigVL7"
   },
   "source": [
    "# IS Lab Assignment 3 - RSA"
   ]
  },
  {
   "cell_type": "code",
   "execution_count": null,
   "metadata": {
    "colab": {
     "base_uri": "https://localhost:8080/"
    },
    "id": "esMhzqZ6gYbD",
    "outputId": "a885a71c-39f8-4a98-d0bf-14a35252b862"
   },
   "outputs": [
    {
     "name": "stdout",
     "output_type": "stream",
     "text": [
      "Enter plaintext message: 12\n",
      "Enter p: 3\n",
      "enter q: 7\n",
      "Encrypted data:  3.0\n",
      "Decrypted data:  12.0\n"
     ]
    }
   ],
   "source": [
    "import math\n",
    "\n",
    "def isPrime(n):\n",
    "    for i in range(2, n):\n",
    "        if (n%i) == 0:\n",
    "            return False\n",
    "    return True\n",
    "\n",
    "\n",
    "# inputs\n",
    "msg = float(input(\"Enter plaintext message: \"))\n",
    "p = int(input(\"Enter p: \"))\n",
    "q = int(input(\"enter q: \"))\n",
    "\n",
    "\n",
    "if isPrime(p) and isPrime(q):\n",
    "    n = p * q\n",
    "    # toitient function\n",
    "    phi = (p - 1) * (q - 1)\n",
    "    \n",
    "    e = 2\n",
    "    while (e < phi):\n",
    "        if math.gcd(e, phi) == 1:\n",
    "            break;\n",
    "        else:\n",
    "            e += 1\n",
    "    \n",
    "    k = 2\n",
    "    d = (1 + (k * phi)) / e\n",
    "    \n",
    "    \n",
    "    # encryption\n",
    "    encrypted = pow(msg, e)\n",
    "    encrypted = math.fmod(encrypted, n)\n",
    "    print(\"Encrypted data: \", encrypted)\n",
    "    \n",
    "    # decryption\n",
    "    decrypted = pow(encrypted, d)\n",
    "    decrypted = math.fmod(decrypted, n)\n",
    "    print(\"Decrypted data: \", decrypted)"
   ]
  },
  {
   "cell_type": "markdown",
   "metadata": {
    "id": "Mv-kuDKG3swJ"
   },
   "source": [
    "# IS Lab Assignment 4 - SHA "
   ]
  },
  {
   "cell_type": "code",
   "execution_count": null,
   "metadata": {
    "colab": {
     "base_uri": "https://localhost:8080/"
    },
    "id": "YL8lS_F330xX",
    "outputId": "5392d034-8288-4bf4-bba6-e380cbd6a043"
   },
   "outputs": [
    {
     "name": "stdout",
     "output_type": "stream",
     "text": [
      "{'sha256', 'sha224', 'blake2b', 'sha3_384', 'sha3_512', 'shake_256', 'blake2s', 'sha3_256', 'shake_128', 'sha384', 'sha3_224', 'md5', 'sha1', 'sha512'}\n"
     ]
    }
   ],
   "source": [
    "import hashlib\n",
    "print(hashlib.algorithms_guaranteed)"
   ]
  },
  {
   "cell_type": "code",
   "execution_count": null,
   "metadata": {
    "colab": {
     "base_uri": "https://localhost:8080/"
    },
    "id": "hsSyCIuv35l2",
    "outputId": "5cc04826-50a6-49ff-b23d-8f49b28593bc"
   },
   "outputs": [
    {
     "name": "stdout",
     "output_type": "stream",
     "text": [
      "Object: <sha256 HASH object @ 0x7f747f85ac30>\n",
      "Hexadecimal format: ab530a13e45914982b79f9b7e3fba994cfd1f3fb22f71cea1afbf02b460c6d1d\n"
     ]
    }
   ],
   "source": [
    "name = 'message'\n",
    "encoded_name = name.encode()\n",
    "hashed_name = hashlib.sha256(encoded_name)\n",
    "print(\"Object:\", hashed_name)\n",
    "print(\"Hexadecimal format:\", hashed_name.hexdigest())"
   ]
  }
 ],
 "metadata": {
  "colab": {
   "provenance": []
  },
  "kernelspec": {
   "display_name": "Python 3",
   "language": "python",
   "name": "python3"
  },
  "language_info": {
   "codemirror_mode": {
    "name": "ipython",
    "version": 3
   },
   "file_extension": ".py",
   "mimetype": "text/x-python",
   "name": "python",
   "nbconvert_exporter": "python",
   "pygments_lexer": "ipython3",
   "version": "3.8.8"
  }
 },
 "nbformat": 4,
 "nbformat_minor": 1
}
